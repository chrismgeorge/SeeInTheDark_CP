{
 "cells": [
  {
   "cell_type": "code",
   "execution_count": null,
   "metadata": {},
   "outputs": [],
   "source": [
    "import os,time,scipy.io\n",
    "\n",
    "import numpy as np\n",
    "import rawpy\n",
    "\n",
    "import torch\n",
    "import torch.nn as nn\n",
    "import torch.optim as optim\n",
    "\n",
    "from model import SeeInDark\n",
    "from GLOBALS import * \n",
    "from SID_Dataset import Dataset\n",
    "from utils import get_train_ids, get_test_ids\n",
    "import pdb\n",
    "\n",
    "\n",
    "def main():\n",
    "    train_ids = get_train_ids()\n",
    "    test_ids = get_test_ids()\n",
    "    \n",
    "    DEBUG = 0\n",
    "    if DEBUG == 1:\n",
    "        save_freq = 100\n",
    "        train_ids = train_ids[0:5]\n",
    "        test_ids = test_ids[0:5]\n",
    "\n",
    "    # Raw data takes long time to load. Keep them in memory after loaded.\n",
    "    gt_images=[None]*6000\n",
    "    input_images = {}\n",
    "    input_images['300'] = [None]*len(train_ids)\n",
    "    input_images['250'] = [None]*len(train_ids)\n",
    "    input_images['100'] = [None]*len(train_ids)\n",
    "\n",
    "    model = SeeInDark().to(device)\n",
    "    model._initialize_weights()\n",
    "    \n",
    "    pdb.set_trace()\n",
    "    \n",
    "    train_dataset = SID_Dataset(train_ids)\n",
    "    train_loader_args = dict(shuffle=True, batch_size=1, num_workers=num_workers, pin_memory=True)\n",
    "    dataloader data.DataLoader(train_dataset, **train_loader_args)\n",
    "    \n",
    "    optimizer = optim.Adam(model.parameters(), lr=1e-4)\n",
    "    \n",
    "    train_losses = []\n",
    "    for epoch in range(0, 5000):\n",
    "        train_loss = train(model, epoch, dataloader, optimizer)\n",
    "        train_losses.append(train_loss)\n",
    "\n",
    "main()"
   ]
  }
 ],
 "metadata": {
  "kernelspec": {
   "display_name": "Environment (conda_pytorch_p36)",
   "language": "python",
   "name": "conda_pytorch_p36"
  },
  "language_info": {
   "codemirror_mode": {
    "name": "ipython",
    "version": 3
   },
   "file_extension": ".py",
   "mimetype": "text/x-python",
   "name": "python",
   "nbconvert_exporter": "python",
   "pygments_lexer": "ipython3",
   "version": "3.6.5"
  }
 },
 "nbformat": 4,
 "nbformat_minor": 2
}
