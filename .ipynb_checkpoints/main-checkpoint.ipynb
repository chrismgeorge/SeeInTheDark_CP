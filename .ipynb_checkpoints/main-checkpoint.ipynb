{
 "cells": [
  {
   "cell_type": "code",
   "execution_count": null,
   "metadata": {},
   "outputs": [
    {
     "name": "stdout",
     "output_type": "stream",
     "text": [
      "Getting Train/Test Ids\n",
      "Check debugging\n",
      "Making model and dataset\n",
      "Training...\n",
      "['./dataset/Sony/short/00174_00_0.1s.ARW']\n",
      "> /home/ubuntu/SeeInTheDark_CP/SID_Dataset.py(55)__getitem__()\n",
      "-> if self.input_images[str(ratio)[0:3]][ind] is None:\n"
     ]
    }
   ],
   "source": [
    "import os, time, scipy.io, pdb\n",
    "\n",
    "import rawpy\n",
    "import numpy as np\n",
    "\n",
    "import torch\n",
    "import torch.nn as nn\n",
    "import torch.optim as optim\n",
    "from torch.utils import data\n",
    "\n",
    "from GLOBALS import * \n",
    "from train import train\n",
    "from model import SeeInDark\n",
    "from SID_Dataset import Dataset\n",
    "from utils import get_train_ids, get_test_ids\n",
    "\n",
    "\n",
    "def main():\n",
    "    print('Getting Train/Test Ids')\n",
    "    train_ids = get_train_ids()\n",
    "    test_ids = get_test_ids()\n",
    "    \n",
    "    print('Check debugging')\n",
    "    DEBUG = 0\n",
    "    if DEBUG == 1:\n",
    "        save_freq = 100\n",
    "        train_ids = train_ids[0:5]\n",
    "        test_ids = test_ids[0:5]\n",
    "\n",
    "    print('Making model and dataset')\n",
    "    model = SeeInDark()\n",
    "    model._initialize_weights()\n",
    "    \n",
    "    train_dataset = Dataset(train_ids)\n",
    "    train_loader_args = dict(shuffle=True, batch_size=BATCH_SIZE, num_workers=2, pin_memory=True)\n",
    "    dataloader = data.DataLoader(train_dataset, **train_loader_args)\n",
    "    \n",
    "    optimizer = optim.Adam(model.parameters(), lr=1e-4)\n",
    "    \n",
    "    print('Training...')\n",
    "    train_losses = []\n",
    "    \n",
    "    #for epoch in range(0, 5000):\n",
    "    for epoch in range(0, 5000):\n",
    "        # time it\n",
    "        start_time = time.time()\n",
    "        \n",
    "        # Run an epoch\n",
    "        train_loss = train(model, epoch, dataloader, optimizer)\n",
    "        train_losses.append(train_loss)\n",
    "        \n",
    "        # time it\n",
    "        end_time = time.time()\n",
    "        print(\"Epoch time: \", end_time - start_time, \"Running loss: \", train_loss)\n",
    "        \n",
    "\n",
    "main()"
   ]
  },
  {
   "cell_type": "code",
   "execution_count": null,
   "metadata": {},
   "outputs": [],
   "source": []
  }
 ],
 "metadata": {
  "kernelspec": {
   "display_name": "Environment (conda_pytorch_p36)",
   "language": "python",
   "name": "conda_pytorch_p36"
  },
  "language_info": {
   "codemirror_mode": {
    "name": "ipython",
    "version": 3
   },
   "file_extension": ".py",
   "mimetype": "text/x-python",
   "name": "python",
   "nbconvert_exporter": "python",
   "pygments_lexer": "ipython3",
   "version": "3.6.5"
  }
 },
 "nbformat": 4,
 "nbformat_minor": 2
}
